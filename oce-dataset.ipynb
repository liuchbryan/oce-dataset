{
 "cells": [
  {
   "cell_type": "code",
   "execution_count": 1,
   "metadata": {
    "application/vnd.databricks.v1+cell": {
     "inputWidgets": {},
     "nuid": "ccce4f4a-d090-4639-bb11-a89b74ffdf89",
     "showTitle": false,
     "title": ""
    }
   },
   "outputs": [],
   "source": [
    "import pandas as pd\n",
    "import numpy as np\n",
    "import scipy\n",
    "import seaborn as sns\n",
    "import matplotlib\n",
    "import os"
   ]
  },
  {
   "cell_type": "code",
   "execution_count": 2,
   "metadata": {},
   "outputs": [],
   "source": [
    "import matplotlib.pyplot as plt\n",
    "sns.set_theme(style=\"ticks\", palette=sns.color_palette(\"Set2\"))\n"
   ]
  },
  {
   "cell_type": "code",
   "execution_count": 3,
   "metadata": {
    "application/vnd.databricks.v1+cell": {
     "inputWidgets": {},
     "nuid": "f37708e0-04c0-4a5a-8b7c-c9fea7c8bc93",
     "showTitle": false,
     "title": ""
    }
   },
   "outputs": [],
   "source": [
    "working_folder = \".\"\n",
    "figures_folder = working_folder + os.path.sep + 'figures' + os.path.sep\n",
    "if not os.path.isdir(figures_folder):\n",
    "    os.mkdir(figures_folder)\n",
    "abtest_metrics_df = pd.read_parquet(working_folder + os.path.sep + 'abtest_metrics_anonymised.parquet')"
   ]
  },
  {
   "cell_type": "markdown",
   "metadata": {},
   "source": [
    "## parameters"
   ]
  },
  {
   "cell_type": "code",
   "execution_count": 4,
   "metadata": {},
   "outputs": [],
   "source": [
    "alpha = 0.05"
   ]
  },
  {
   "cell_type": "markdown",
   "metadata": {},
   "source": [
    "## function definitions"
   ]
  },
  {
   "cell_type": "code",
   "execution_count": 5,
   "metadata": {},
   "outputs": [],
   "source": [
    "def mSPRT_vanilla_normal_p_value_aux(mean_x: float, mean_y: float, variance_x: float, variance_y: \n",
    "                                     float, count_x: float, count_y: float, theta_0: float = 0, tau_sq: float = 0.0001):\n",
    "    \n",
    "    if (count_x == 0) or (count_y == 0):\n",
    "        return 1.0\n",
    "\n",
    "    count_mean = 2 / (1/count_x + 1/count_y)\n",
    "\n",
    "    test_statistic = (\n",
    "      np.sqrt((variance_x + variance_y)/\n",
    "              (variance_x + variance_y + count_mean * tau_sq)) *\n",
    "      np.exp((count_mean ** 2.0 * tau_sq *\n",
    "              (mean_y - mean_x - theta_0) ** 2.0) /\n",
    "             (2.0 * (variance_x + variance_y) *\n",
    "              (variance_x + variance_y + count_mean * tau_sq)))\n",
    "    )\n",
    "    return 1.0 / max(1.0, test_statistic)\n"
   ]
  },
  {
   "cell_type": "markdown",
   "metadata": {
    "application/vnd.databricks.v1+cell": {
     "inputWidgets": {},
     "nuid": "eee5cb85-f820-4bd2-8f0e-88a8dcf92e86",
     "showTitle": false,
     "title": ""
    }
   },
   "source": [
    "## quality checks (to delete)"
   ]
  },
  {
   "cell_type": "code",
   "execution_count": 6,
   "metadata": {},
   "outputs": [
    {
     "data": {
      "text/plain": [
       "0.05148875397725761"
      ]
     },
     "execution_count": 6,
     "metadata": {},
     "output_type": "execute_result"
    }
   ],
   "source": [
    "mSPRT_vanilla_normal_p_value_aux(0.5, 0.506, 0.25, 0.25, 200000, 100000, 0, 0.0001)"
   ]
  },
  {
   "cell_type": "code",
   "execution_count": 7,
   "metadata": {
    "application/vnd.databricks.v1+cell": {
     "inputWidgets": {},
     "nuid": "8d32142d-f7c3-44c9-8543-813b29858e7d",
     "showTitle": true,
     "title": "Check for duplicates"
    }
   },
   "outputs": [
    {
     "data": {
      "text/plain": [
       "experiment_id       24161\n",
       "variant_id          24161\n",
       "metric_id           24161\n",
       "time_since_start    24161\n",
       "count_c             24161\n",
       "count_t             24161\n",
       "mean_c              24161\n",
       "mean_t              24161\n",
       "variance_c          23383\n",
       "variance_t          23382\n",
       "dtype: int64"
      ]
     },
     "execution_count": 7,
     "metadata": {},
     "output_type": "execute_result"
    }
   ],
   "source": [
    "abtest_metrics_df.count()"
   ]
  },
  {
   "cell_type": "code",
   "execution_count": 8,
   "metadata": {
    "application/vnd.databricks.v1+cell": {
     "inputWidgets": {},
     "nuid": "0ede5963-861a-4402-b2f1-a2dc4accdc63",
     "showTitle": false,
     "title": ""
    }
   },
   "outputs": [
    {
     "data": {
      "text/plain": [
       "experiment_id       24153\n",
       "variant_id          24153\n",
       "metric_id           24153\n",
       "time_since_start    24153\n",
       "count_c             24153\n",
       "count_t             24153\n",
       "mean_c              24153\n",
       "mean_t              24153\n",
       "variance_c          23375\n",
       "variance_t          23374\n",
       "dtype: int64"
      ]
     },
     "execution_count": 8,
     "metadata": {},
     "output_type": "execute_result"
    }
   ],
   "source": [
    "abtest_metrics_df.drop_duplicates(['experiment_id', 'variant_id', 'metric_id', 'time_since_start']).count()"
   ]
  },
  {
   "cell_type": "markdown",
   "metadata": {
    "application/vnd.databricks.v1+cell": {
     "inputWidgets": {},
     "nuid": "7fc3c118-3616-4eb8-982c-aa248fdd1bdb",
     "showTitle": false,
     "title": ""
    }
   },
   "source": [
    "TODO: Find the 8 duplicate rows"
   ]
  },
  {
   "cell_type": "markdown",
   "metadata": {
    "application/vnd.databricks.v1+cell": {
     "inputWidgets": {},
     "nuid": "3378e87c-a7b3-47c6-884d-7615e81bb565",
     "showTitle": false,
     "title": ""
    }
   },
   "source": [
    "## Dataset descriptive statistics"
   ]
  },
  {
   "cell_type": "markdown",
   "metadata": {
    "application/vnd.databricks.v1+cell": {
     "inputWidgets": {},
     "nuid": "05983e5d-b5ec-4cf3-bc40-0926fe311dae",
     "showTitle": true,
     "title": "Distribution of effect sizes"
    }
   },
   "source": [
    "### Reproduce the effect size distribution plot in the report \"ASOS experimentation meta-analysis\""
   ]
  },
  {
   "cell_type": "code",
   "execution_count": 9,
   "metadata": {
    "application/vnd.databricks.v1+cell": {
     "inputWidgets": {},
     "nuid": "b2520c78-6f98-4550-b3f5-620ab8b28758",
     "showTitle": true,
     "title": "Run 2-tailed Welch's t-test and obtain p-value"
    }
   },
   "outputs": [],
   "source": [
    "experiment_keys_overall_df = \\\n",
    "abtest_metrics_df \\\n",
    ".groupby(['experiment_id', 'variant_id', 'metric_id'])\\\n",
    ".agg({'time_since_start':'max'})\n",
    "\n",
    "t_test_data_df = (\n",
    "  experiment_keys_overall_df\n",
    "  .reset_index()\n",
    "  .merge(abtest_metrics_df, how='inner')\n",
    ")\n"
   ]
  },
  {
   "cell_type": "code",
   "execution_count": 10,
   "metadata": {
    "application/vnd.databricks.v1+cell": {
     "inputWidgets": {},
     "nuid": "2c3fd7b1-87e6-4469-b6c3-2c639c10dca3",
     "showTitle": false,
     "title": ""
    }
   },
   "outputs": [],
   "source": [
    "ttest_lambda = lambda x: scipy.stats.ttest_ind_from_stats(x['mean_c'],np.sqrt(x['variance_c']),\n",
    "                                                          x['count_c'], x['mean_t'],\n",
    "                                                          np.sqrt(x['variance_t']), x['count_t'],\n",
    "                                                          equal_var=False)[1]\n",
    "\n",
    "#scipy.stats.ttest_ind_from_stats(mean1, std1, nobs1, mean2, std2, nobs2, equal_var=True, alternative='two-sided')"
   ]
  },
  {
   "cell_type": "code",
   "execution_count": 11,
   "metadata": {
    "application/vnd.databricks.v1+cell": {
     "inputWidgets": {},
     "nuid": "21747afa-e3e3-45d0-b343-24d9751a4c2c",
     "showTitle": false,
     "title": ""
    }
   },
   "outputs": [],
   "source": [
    "t_test_data_df['t-test-p-value']=t_test_data_df.apply(ttest_lambda, axis=1)\n",
    "abtest_metrics_df = abtest_metrics_df.merge(t_test_data_df[['experiment_id', 'variant_id', 'metric_id','t-test-p-value']], \n",
    "                                            on=['experiment_id', 'variant_id', 'metric_id'])"
   ]
  },
  {
   "cell_type": "code",
   "execution_count": 12,
   "metadata": {
    "application/vnd.databricks.v1+cell": {
     "inputWidgets": {},
     "nuid": "48cc0e99-4774-4772-8eb7-9777afc0fe2e",
     "showTitle": false,
     "title": ""
    }
   },
   "outputs": [
    {
     "name": "stdout",
     "output_type": "stream",
     "text": [
      "metric_id 1\n"
     ]
    },
    {
     "data": {
      "text/plain": [
       "<Figure size 432x288 with 0 Axes>"
      ]
     },
     "metadata": {},
     "output_type": "display_data"
    },
    {
     "data": {
      "image/png": "[encoded data removed]",
      "text/plain": [
       "<Figure size 360x360 with 1 Axes>"
      ]
     },
     "metadata": {},
     "output_type": "display_data"
    },
    {
     "name": "stdout",
     "output_type": "stream",
     "text": [
      "metric_id 2\n"
     ]
    },
    {
     "data": {
      "text/plain": [
       "<Figure size 432x288 with 0 Axes>"
      ]
     },
     "metadata": {},
     "output_type": "display_data"
    },
    {
     "data": {
      "text/plain": [
       "<Figure size 432x288 with 0 Axes>"
      ]
     },
     "metadata": {},
     "output_type": "display_data"
    },
    {
     "data": {
      "image/png": "[encoded data removed]",
      "text/plain": [
       "<Figure size 360x360 with 1 Axes>"
      ]
     },
     "metadata": {},
     "output_type": "display_data"
    },
    {
     "name": "stdout",
     "output_type": "stream",
     "text": [
      "metric_id 3\n"
     ]
    },
    {
     "data": {
      "text/plain": [
       "<Figure size 432x288 with 0 Axes>"
      ]
     },
     "metadata": {},
     "output_type": "display_data"
    },
    {
     "data": {
      "text/plain": [
       "<Figure size 432x288 with 0 Axes>"
      ]
     },
     "metadata": {},
     "output_type": "display_data"
    },
    {
     "data": {
      "image/png": "[encoded data removed]",
      "text/plain": [
       "<Figure size 360x360 with 1 Axes>"
      ]
     },
     "metadata": {},
     "output_type": "display_data"
    },
    {
     "name": "stdout",
     "output_type": "stream",
     "text": [
      "metric_id 4\n"
     ]
    },
    {
     "data": {
      "text/plain": [
       "<Figure size 432x288 with 0 Axes>"
      ]
     },
     "metadata": {},
     "output_type": "display_data"
    },
    {
     "data": {
      "text/plain": [
       "<Figure size 432x288 with 0 Axes>"
      ]
     },
     "metadata": {},
     "output_type": "display_data"
    },
    {
     "data": {
      "image/png": "[encoded data removed]",
      "text/plain": [
       "<Figure size 360x360 with 1 Axes>"
      ]
     },
     "metadata": {},
     "output_type": "display_data"
    },
    {
     "data": {
      "text/plain": [
       "<Figure size 432x288 with 0 Axes>"
      ]
     },
     "metadata": {},
     "output_type": "display_data"
    }
   ],
   "source": [
    "import matplotlib.pyplot as plt\n",
    "\n",
    "for metric_id in t_test_data_df['metric_id'].unique():\n",
    "    print('metric_id', metric_id)\n",
    "    plt.figure()\n",
    "    sns.displot(t_test_data_df[t_test_data_df['metric_id']==metric_id]['t-test-p-value'],bins=np.linspace(0,1,20),rug=False,kde=False)\n",
    "    #axlabel='Metric: '+ str(metric_id)\n",
    "    plt.xlim(0, 1)\n",
    "    plt.show()\n",
    "    plt.savefig(figures_folder + 't-test_p-value_metric_' + str(metric_id) + '.pdf')\n",
    "\n"
   ]
  },
  {
   "cell_type": "markdown",
   "metadata": {
    "application/vnd.databricks.v1+cell": {
     "inputWidgets": {},
     "nuid": "58f0680b-1a9f-494e-96dc-711924c004a0",
     "showTitle": false,
     "title": ""
    }
   },
   "source": [
    "Calculate mSPRT p-value for ALL rows  \n",
    "Calculate Bayesian A/B test Bayes Factor + Posterior Odds for ALL rows  \n",
    "Calculate % experiemnt progress (i.e. time_since_start / max(time_since_start))"
   ]
  },
  {
   "cell_type": "code",
   "execution_count": 13,
   "metadata": {
    "application/vnd.databricks.v1+cell": {
     "inputWidgets": {},
     "nuid": "ce629e6b-539d-42e2-82ab-905d23e1e369",
     "showTitle": false,
     "title": ""
    }
   },
   "outputs": [],
   "source": [
    "abtest_metrics_df['mSPRT-vanilla-p-value-aux'] = (\n",
    "  abtest_metrics_df.apply(\n",
    "    lambda row: mSPRT_vanilla_normal_p_value_aux(\n",
    "      mean_x=row['mean_c'], mean_y=row['mean_t'],\n",
    "      variance_x=row['variance_c'], variance_y=row['variance_t'],\n",
    "      count_x=row['count_c'], count_y=row['count_t'],\n",
    "      theta_0=0, tau_sq=0.0001),\n",
    "    axis=1)\n",
    ")\n"
   ]
  },
  {
   "cell_type": "code",
   "execution_count": 14,
   "metadata": {
    "application/vnd.databricks.v1+cell": {
     "inputWidgets": {},
     "nuid": "9347569b-2dcd-424e-aa23-967d5dfa7ae6",
     "showTitle": false,
     "title": ""
    }
   },
   "outputs": [],
   "source": [
    "abtest_metrics_df = abtest_metrics_df.sort_values(['experiment_id', 'variant_id', 'metric_id'])\n",
    "\n",
    "abtest_metrics_df['mSPRT-vanilla-p-value'] = (\n",
    "  abtest_metrics_df\n",
    "  .groupby(['experiment_id', 'variant_id', 'metric_id'])\n",
    "  ['mSPRT-vanilla-p-value-aux']\n",
    "  .transform(lambda row: row.expanding(min_periods=2).min())\n",
    ")\n",
    "\n",
    "abtest_metrics_df['mSPRT-vanilla-p-value'] = (\n",
    "  abtest_metrics_df['mSPRT-vanilla-p-value'].fillna(1.0)\n",
    ")\n"
   ]
  },
  {
   "cell_type": "code",
   "execution_count": 15,
   "metadata": {
    "application/vnd.databricks.v1+cell": {
     "inputWidgets": {},
     "nuid": "f6dcdda9-c64d-4fd9-a8e0-541b97a5226f",
     "showTitle": false,
     "title": ""
    }
   },
   "outputs": [],
   "source": [
    "abtest_metrics_df = abtest_metrics_df.merge(abtest_metrics_df.groupby(['experiment_id', 'variant_id', 'metric_id'])\\\n",
    "                                            ['time_since_start'].max().reset_index()\\\n",
    "                                            .rename(columns={'time_since_start':'design_duration'}),on=['experiment_id', 'variant_id', 'metric_id'])\n",
    "abtest_metrics_df['time_progress'] = abtest_metrics_df['time_since_start']/abtest_metrics_df['design_duration']\n",
    "abtest_metrics_df['experiment_variant_id'] = abtest_metrics_df['experiment_id'].map(str) + '-' + abtest_metrics_df['variant_id'].map(str)"
   ]
  },
  {
   "cell_type": "code",
   "execution_count": 16,
   "metadata": {},
   "outputs": [
    {
     "data": {
      "text/html": [
       "<div>\n",
       "<style scoped>\n",
       "    .dataframe tbody tr th:only-of-type {\n",
       "        vertical-align: middle;\n",
       "    }\n",
       "\n",
       "    .dataframe tbody tr th {\n",
       "        vertical-align: top;\n",
       "    }\n",
       "\n",
       "    .dataframe thead th {\n",
       "        text-align: right;\n",
       "    }\n",
       "</style>\n",
       "<table border=\"1\" class=\"dataframe\">\n",
       "  <thead>\n",
       "    <tr style=\"text-align: right;\">\n",
       "      <th></th>\n",
       "      <th>experiment_id</th>\n",
       "      <th>variant_id</th>\n",
       "      <th>metric_id</th>\n",
       "      <th>time_since_start</th>\n",
       "      <th>count_c</th>\n",
       "      <th>count_t</th>\n",
       "      <th>mean_c</th>\n",
       "      <th>mean_t</th>\n",
       "      <th>variance_c</th>\n",
       "      <th>variance_t</th>\n",
       "      <th>t-test-p-value</th>\n",
       "      <th>mSPRT-vanilla-p-value-aux</th>\n",
       "      <th>mSPRT-vanilla-p-value</th>\n",
       "      <th>design_duration</th>\n",
       "      <th>time_progress</th>\n",
       "      <th>experiment_variant_id</th>\n",
       "    </tr>\n",
       "  </thead>\n",
       "  <tbody>\n",
       "    <tr>\n",
       "      <th>0</th>\n",
       "      <td>036afc</td>\n",
       "      <td>2</td>\n",
       "      <td>1</td>\n",
       "      <td>1.5</td>\n",
       "      <td>188065.0</td>\n",
       "      <td>186686.0</td>\n",
       "      <td>0.107808</td>\n",
       "      <td>0.107828</td>\n",
       "      <td>0.096186</td>\n",
       "      <td>0.096201</td>\n",
       "      <td>4.558169e-01</td>\n",
       "      <td>1.000000</td>\n",
       "      <td>1.000000</td>\n",
       "      <td>76.5</td>\n",
       "      <td>0.019608</td>\n",
       "      <td>036afc-2</td>\n",
       "    </tr>\n",
       "    <tr>\n",
       "      <th>1</th>\n",
       "      <td>036afc</td>\n",
       "      <td>2</td>\n",
       "      <td>1</td>\n",
       "      <td>2.0</td>\n",
       "      <td>245041.0</td>\n",
       "      <td>243694.0</td>\n",
       "      <td>0.131790</td>\n",
       "      <td>0.131435</td>\n",
       "      <td>0.114422</td>\n",
       "      <td>0.114160</td>\n",
       "      <td>4.558169e-01</td>\n",
       "      <td>1.000000</td>\n",
       "      <td>1.000000</td>\n",
       "      <td>76.5</td>\n",
       "      <td>0.026144</td>\n",
       "      <td>036afc-2</td>\n",
       "    </tr>\n",
       "    <tr>\n",
       "      <th>2</th>\n",
       "      <td>036afc</td>\n",
       "      <td>2</td>\n",
       "      <td>1</td>\n",
       "      <td>2.5</td>\n",
       "      <td>277237.0</td>\n",
       "      <td>275949.0</td>\n",
       "      <td>0.143065</td>\n",
       "      <td>0.142711</td>\n",
       "      <td>0.122598</td>\n",
       "      <td>0.122345</td>\n",
       "      <td>4.558169e-01</td>\n",
       "      <td>1.000000</td>\n",
       "      <td>1.000000</td>\n",
       "      <td>76.5</td>\n",
       "      <td>0.032680</td>\n",
       "      <td>036afc-2</td>\n",
       "    </tr>\n",
       "    <tr>\n",
       "      <th>3</th>\n",
       "      <td>036afc</td>\n",
       "      <td>2</td>\n",
       "      <td>1</td>\n",
       "      <td>3.0</td>\n",
       "      <td>315689.0</td>\n",
       "      <td>314676.0</td>\n",
       "      <td>0.161789</td>\n",
       "      <td>0.160997</td>\n",
       "      <td>0.135613</td>\n",
       "      <td>0.135077</td>\n",
       "      <td>4.558169e-01</td>\n",
       "      <td>1.000000</td>\n",
       "      <td>1.000000</td>\n",
       "      <td>76.5</td>\n",
       "      <td>0.039216</td>\n",
       "      <td>036afc-2</td>\n",
       "    </tr>\n",
       "    <tr>\n",
       "      <th>4</th>\n",
       "      <td>036afc</td>\n",
       "      <td>2</td>\n",
       "      <td>1</td>\n",
       "      <td>3.5</td>\n",
       "      <td>338631.0</td>\n",
       "      <td>337715.0</td>\n",
       "      <td>0.172474</td>\n",
       "      <td>0.171067</td>\n",
       "      <td>0.142727</td>\n",
       "      <td>0.141803</td>\n",
       "      <td>4.558169e-01</td>\n",
       "      <td>1.000000</td>\n",
       "      <td>1.000000</td>\n",
       "      <td>76.5</td>\n",
       "      <td>0.045752</td>\n",
       "      <td>036afc-2</td>\n",
       "    </tr>\n",
       "    <tr>\n",
       "      <th>...</th>\n",
       "      <td>...</td>\n",
       "      <td>...</td>\n",
       "      <td>...</td>\n",
       "      <td>...</td>\n",
       "      <td>...</td>\n",
       "      <td>...</td>\n",
       "      <td>...</td>\n",
       "      <td>...</td>\n",
       "      <td>...</td>\n",
       "      <td>...</td>\n",
       "      <td>...</td>\n",
       "      <td>...</td>\n",
       "      <td>...</td>\n",
       "      <td>...</td>\n",
       "      <td>...</td>\n",
       "      <td>...</td>\n",
       "    </tr>\n",
       "    <tr>\n",
       "      <th>24156</th>\n",
       "      <td>fdaf62</td>\n",
       "      <td>1</td>\n",
       "      <td>4</td>\n",
       "      <td>28.0</td>\n",
       "      <td>2182559.0</td>\n",
       "      <td>2180705.0</td>\n",
       "      <td>38.270483</td>\n",
       "      <td>38.858464</td>\n",
       "      <td>8478.894092</td>\n",
       "      <td>8708.839083</td>\n",
       "      <td>5.541495e-12</td>\n",
       "      <td>0.764372</td>\n",
       "      <td>0.764372</td>\n",
       "      <td>32.0</td>\n",
       "      <td>0.875000</td>\n",
       "      <td>fdaf62-1</td>\n",
       "    </tr>\n",
       "    <tr>\n",
       "      <th>24157</th>\n",
       "      <td>fdaf62</td>\n",
       "      <td>1</td>\n",
       "      <td>4</td>\n",
       "      <td>29.0</td>\n",
       "      <td>2259937.0</td>\n",
       "      <td>2257899.0</td>\n",
       "      <td>38.485748</td>\n",
       "      <td>39.065107</td>\n",
       "      <td>8627.264583</td>\n",
       "      <td>8821.982824</td>\n",
       "      <td>5.541495e-12</td>\n",
       "      <td>0.762436</td>\n",
       "      <td>0.762436</td>\n",
       "      <td>32.0</td>\n",
       "      <td>0.906250</td>\n",
       "      <td>fdaf62-1</td>\n",
       "    </tr>\n",
       "    <tr>\n",
       "      <th>24158</th>\n",
       "      <td>fdaf62</td>\n",
       "      <td>1</td>\n",
       "      <td>4</td>\n",
       "      <td>30.0</td>\n",
       "      <td>2341537.0</td>\n",
       "      <td>2339309.0</td>\n",
       "      <td>38.691410</td>\n",
       "      <td>39.211843</td>\n",
       "      <td>8916.435308</td>\n",
       "      <td>8848.559719</td>\n",
       "      <td>5.541495e-12</td>\n",
       "      <td>0.798158</td>\n",
       "      <td>0.762436</td>\n",
       "      <td>32.0</td>\n",
       "      <td>0.937500</td>\n",
       "      <td>fdaf62-1</td>\n",
       "    </tr>\n",
       "    <tr>\n",
       "      <th>24159</th>\n",
       "      <td>fdaf62</td>\n",
       "      <td>1</td>\n",
       "      <td>4</td>\n",
       "      <td>31.0</td>\n",
       "      <td>2422152.0</td>\n",
       "      <td>2419745.0</td>\n",
       "      <td>38.705264</td>\n",
       "      <td>39.263485</td>\n",
       "      <td>8836.078773</td>\n",
       "      <td>8884.955277</td>\n",
       "      <td>5.541495e-12</td>\n",
       "      <td>0.755721</td>\n",
       "      <td>0.755721</td>\n",
       "      <td>32.0</td>\n",
       "      <td>0.968750</td>\n",
       "      <td>fdaf62-1</td>\n",
       "    </tr>\n",
       "    <tr>\n",
       "      <th>24160</th>\n",
       "      <td>fdaf62</td>\n",
       "      <td>1</td>\n",
       "      <td>4</td>\n",
       "      <td>32.0</td>\n",
       "      <td>2478580.0</td>\n",
       "      <td>2475916.0</td>\n",
       "      <td>38.962364</td>\n",
       "      <td>39.554518</td>\n",
       "      <td>9077.322251</td>\n",
       "      <td>9215.231273</td>\n",
       "      <td>5.541495e-12</td>\n",
       "      <td>0.733070</td>\n",
       "      <td>0.733070</td>\n",
       "      <td>32.0</td>\n",
       "      <td>1.000000</td>\n",
       "      <td>fdaf62-1</td>\n",
       "    </tr>\n",
       "  </tbody>\n",
       "</table>\n",
       "<p>24161 rows × 16 columns</p>\n",
       "</div>"
      ],
      "text/plain": [
       "      experiment_id  variant_id  metric_id  time_since_start    count_c  \\\n",
       "0            036afc           2          1               1.5   188065.0   \n",
       "1            036afc           2          1               2.0   245041.0   \n",
       "2            036afc           2          1               2.5   277237.0   \n",
       "3            036afc           2          1               3.0   315689.0   \n",
       "4            036afc           2          1               3.5   338631.0   \n",
       "...             ...         ...        ...               ...        ...   \n",
       "24156        fdaf62           1          4              28.0  2182559.0   \n",
       "24157        fdaf62           1          4              29.0  2259937.0   \n",
       "24158        fdaf62           1          4              30.0  2341537.0   \n",
       "24159        fdaf62           1          4              31.0  2422152.0   \n",
       "24160        fdaf62           1          4              32.0  2478580.0   \n",
       "\n",
       "         count_t     mean_c     mean_t   variance_c   variance_t  \\\n",
       "0       186686.0   0.107808   0.107828     0.096186     0.096201   \n",
       "1       243694.0   0.131790   0.131435     0.114422     0.114160   \n",
       "2       275949.0   0.143065   0.142711     0.122598     0.122345   \n",
       "3       314676.0   0.161789   0.160997     0.135613     0.135077   \n",
       "4       337715.0   0.172474   0.171067     0.142727     0.141803   \n",
       "...          ...        ...        ...          ...          ...   \n",
       "24156  2180705.0  38.270483  38.858464  8478.894092  8708.839083   \n",
       "24157  2257899.0  38.485748  39.065107  8627.264583  8821.982824   \n",
       "24158  2339309.0  38.691410  39.211843  8916.435308  8848.559719   \n",
       "24159  2419745.0  38.705264  39.263485  8836.078773  8884.955277   \n",
       "24160  2475916.0  38.962364  39.554518  9077.322251  9215.231273   \n",
       "\n",
       "       t-test-p-value  mSPRT-vanilla-p-value-aux  mSPRT-vanilla-p-value  \\\n",
       "0        4.558169e-01                   1.000000               1.000000   \n",
       "1        4.558169e-01                   1.000000               1.000000   \n",
       "2        4.558169e-01                   1.000000               1.000000   \n",
       "3        4.558169e-01                   1.000000               1.000000   \n",
       "4        4.558169e-01                   1.000000               1.000000   \n",
       "...               ...                        ...                    ...   \n",
       "24156    5.541495e-12                   0.764372               0.764372   \n",
       "24157    5.541495e-12                   0.762436               0.762436   \n",
       "24158    5.541495e-12                   0.798158               0.762436   \n",
       "24159    5.541495e-12                   0.755721               0.755721   \n",
       "24160    5.541495e-12                   0.733070               0.733070   \n",
       "\n",
       "       design_duration  time_progress experiment_variant_id  \n",
       "0                 76.5       0.019608              036afc-2  \n",
       "1                 76.5       0.026144              036afc-2  \n",
       "2                 76.5       0.032680              036afc-2  \n",
       "3                 76.5       0.039216              036afc-2  \n",
       "4                 76.5       0.045752              036afc-2  \n",
       "...                ...            ...                   ...  \n",
       "24156             32.0       0.875000              fdaf62-1  \n",
       "24157             32.0       0.906250              fdaf62-1  \n",
       "24158             32.0       0.937500              fdaf62-1  \n",
       "24159             32.0       0.968750              fdaf62-1  \n",
       "24160             32.0       1.000000              fdaf62-1  \n",
       "\n",
       "[24161 rows x 16 columns]"
      ]
     },
     "execution_count": 16,
     "metadata": {},
     "output_type": "execute_result"
    }
   ],
   "source": [
    "abtest_metrics_df"
   ]
  },
  {
   "cell_type": "code",
   "execution_count": 17,
   "metadata": {
    "application/vnd.databricks.v1+cell": {
     "inputWidgets": {},
     "nuid": "ca445384-7f09-4741-88a9-458610597fc9",
     "showTitle": false,
     "title": ""
    }
   },
   "outputs": [
    {
     "data": {
      "image/png": "[encoded data removed]",
      "text/plain": [
       "<Figure size 432x288 with 1 Axes>"
      ]
     },
     "metadata": {},
     "output_type": "display_data"
    }
   ],
   "source": [
    "sns.lineplot(x=\"time_progress\", y=\"mSPRT-vanilla-p-value\",\n",
    "             hue=\"experiment_variant_id\",\n",
    "             data=abtest_metrics_df[(abtest_metrics_df.experiment_variant_id.isin(['c56288-1', 'a4386f-1', 'bac0d3-1', '08bcc2-1', '591c2c-1'])) & (abtest_metrics_df.metric_id==1)])\n",
    "\n",
    "plt.savefig(figures_folder + 'time_progress_significance_metric_' + str(metric_id) + '.pdf')\n"
   ]
  },
  {
   "cell_type": "code",
   "execution_count": 18,
   "metadata": {},
   "outputs": [],
   "source": [
    "\n",
    "\n",
    "abtest_metrics_df['Both significant']=(abtest_metrics_df['t-test-p-value']<=alpha) & \\\n",
    "    (abtest_metrics_df['mSPRT-vanilla-p-value']<=alpha)\n",
    "abtest_metrics_df['Only mSPRT significant']=(abtest_metrics_df['t-test-p-value']>alpha) & \\\n",
    "    (abtest_metrics_df['mSPRT-vanilla-p-value']<=alpha)\n",
    "abtest_metrics_df['Both not significant']=(abtest_metrics_df['t-test-p-value']>alpha) & \\\n",
    "    (abtest_metrics_df['mSPRT-vanilla-p-value']>alpha)\n",
    "abtest_metrics_df['Only t-test significant']=(abtest_metrics_df['t-test-p-value']<=alpha) & \\\n",
    "    (abtest_metrics_df['mSPRT-vanilla-p-value']>alpha)\n"
   ]
  },
  {
   "cell_type": "code",
   "execution_count": 19,
   "metadata": {},
   "outputs": [
    {
     "data": {
      "text/html": [
       "<div>\n",
       "<style scoped>\n",
       "    .dataframe tbody tr th:only-of-type {\n",
       "        vertical-align: middle;\n",
       "    }\n",
       "\n",
       "    .dataframe tbody tr th {\n",
       "        vertical-align: top;\n",
       "    }\n",
       "\n",
       "    .dataframe thead th {\n",
       "        text-align: right;\n",
       "    }\n",
       "</style>\n",
       "<table border=\"1\" class=\"dataframe\">\n",
       "  <thead>\n",
       "    <tr style=\"text-align: right;\">\n",
       "      <th></th>\n",
       "      <th>Both significant</th>\n",
       "      <th>Only mSPRT significant</th>\n",
       "      <th>Both not significant</th>\n",
       "      <th>Only t-test significant</th>\n",
       "    </tr>\n",
       "    <tr>\n",
       "      <th>metric_id</th>\n",
       "      <th></th>\n",
       "      <th></th>\n",
       "      <th></th>\n",
       "      <th></th>\n",
       "    </tr>\n",
       "  </thead>\n",
       "  <tbody>\n",
       "    <tr>\n",
       "      <th>1</th>\n",
       "      <td>16</td>\n",
       "      <td>2</td>\n",
       "      <td>71</td>\n",
       "      <td>10</td>\n",
       "    </tr>\n",
       "    <tr>\n",
       "      <th>2</th>\n",
       "      <td>17</td>\n",
       "      <td>14</td>\n",
       "      <td>53</td>\n",
       "      <td>10</td>\n",
       "    </tr>\n",
       "    <tr>\n",
       "      <th>3</th>\n",
       "      <td>14</td>\n",
       "      <td>5</td>\n",
       "      <td>64</td>\n",
       "      <td>11</td>\n",
       "    </tr>\n",
       "    <tr>\n",
       "      <th>4</th>\n",
       "      <td>5</td>\n",
       "      <td>2</td>\n",
       "      <td>65</td>\n",
       "      <td>22</td>\n",
       "    </tr>\n",
       "  </tbody>\n",
       "</table>\n",
       "</div>"
      ],
      "text/plain": [
       "           Both significant  Only mSPRT significant  Both not significant  \\\n",
       "metric_id                                                                   \n",
       "1                        16                       2                    71   \n",
       "2                        17                      14                    53   \n",
       "3                        14                       5                    64   \n",
       "4                         5                       2                    65   \n",
       "\n",
       "           Only t-test significant  \n",
       "metric_id                           \n",
       "1                               10  \n",
       "2                               10  \n",
       "3                               11  \n",
       "4                               22  "
      ]
     },
     "execution_count": 19,
     "metadata": {},
     "output_type": "execute_result"
    }
   ],
   "source": [
    "abtest_metrics_df[(abtest_metrics_df['time_progress']==1)].groupby('metric_id')[\n",
    "    ['Both significant','Only mSPRT significant','Both not significant','Only t-test significant']].sum()"
   ]
  },
  {
   "cell_type": "code",
   "execution_count": 20,
   "metadata": {},
   "outputs": [
    {
     "name": "stdout",
     "output_type": "stream",
     "text": [
      "#experiments with at least one entry per time bin 62\n"
     ]
    }
   ],
   "source": [
    "nbins = 10\n",
    "labels=['Both not significant','Only mSPRT significant','Only t-test significant','Both significant']\n",
    "abtest_metrics_df['time_progress_bin'] = pd.cut(abtest_metrics_df['time_progress'], \\\n",
    "                                                np.linspace(0,1,nbins+1),retbins=False)\n",
    "\n",
    "#count snapshots per time_bin\n",
    "abtest_metrics_evol_df = abtest_metrics_df.groupby(['experiment_variant_id','time_progress_bin'])[['time_progress']]\\\n",
    "    .count().groupby('experiment_variant_id').min()\\\n",
    "    .rename(columns={'time_progress':'min_samples_in_time_bin'}).reset_index()\n",
    "\n",
    "#filter experiment_variant_id that have at least one entry per time bin\n",
    "abtest_metrics_evol_df = abtest_metrics_evol_df[\n",
    "    abtest_metrics_evol_df['min_samples_in_time_bin']>=1][['experiment_variant_id']]\n",
    "\n",
    "\n",
    "print('#experiments with at least one entry per time bin', len(abtest_metrics_evol_df['experiment_variant_id'].unique()))\n",
    "abtest_metric_evol_df = abtest_metrics_df[['experiment_variant_id','metric_id','time_progress_bin']+ labels]\\\n",
    ".merge(abtest_metrics_evol_df,on='experiment_variant_id')\\\n",
    "    .groupby(['time_progress_bin','experiment_variant_id','metric_id']).last().reset_index()\n",
    "abtest_metric_evol_df['time_progress_bin'] = [x.mid for x in abtest_metric_evol_df['time_progress_bin'].values]\n",
    "\n",
    "abtest_metric_evol_df = abtest_metric_evol_df.groupby(['time_progress_bin','metric_id']).mean().reset_index()\n"
   ]
  },
  {
   "cell_type": "code",
   "execution_count": 21,
   "metadata": {},
   "outputs": [
    {
     "data": {
      "text/html": [
       "<div>\n",
       "<style scoped>\n",
       "    .dataframe tbody tr th:only-of-type {\n",
       "        vertical-align: middle;\n",
       "    }\n",
       "\n",
       "    .dataframe tbody tr th {\n",
       "        vertical-align: top;\n",
       "    }\n",
       "\n",
       "    .dataframe thead th {\n",
       "        text-align: right;\n",
       "    }\n",
       "</style>\n",
       "<table border=\"1\" class=\"dataframe\">\n",
       "  <thead>\n",
       "    <tr style=\"text-align: right;\">\n",
       "      <th></th>\n",
       "      <th>time_progress_bin</th>\n",
       "      <th>metric_id</th>\n",
       "      <th>Both not significant</th>\n",
       "      <th>Only mSPRT significant</th>\n",
       "      <th>Only t-test significant</th>\n",
       "      <th>Both significant</th>\n",
       "    </tr>\n",
       "  </thead>\n",
       "  <tbody>\n",
       "    <tr>\n",
       "      <th>0</th>\n",
       "      <td>0.05</td>\n",
       "      <td>1</td>\n",
       "      <td>0.725806</td>\n",
       "      <td>0.000000</td>\n",
       "      <td>0.225806</td>\n",
       "      <td>0.048387</td>\n",
       "    </tr>\n",
       "    <tr>\n",
       "      <th>1</th>\n",
       "      <td>0.05</td>\n",
       "      <td>2</td>\n",
       "      <td>0.629032</td>\n",
       "      <td>0.048387</td>\n",
       "      <td>0.274194</td>\n",
       "      <td>0.032258</td>\n",
       "    </tr>\n",
       "    <tr>\n",
       "      <th>2</th>\n",
       "      <td>0.05</td>\n",
       "      <td>3</td>\n",
       "      <td>0.725806</td>\n",
       "      <td>0.016129</td>\n",
       "      <td>0.209677</td>\n",
       "      <td>0.032258</td>\n",
       "    </tr>\n",
       "    <tr>\n",
       "      <th>3</th>\n",
       "      <td>0.05</td>\n",
       "      <td>4</td>\n",
       "      <td>0.693548</td>\n",
       "      <td>0.000000</td>\n",
       "      <td>0.274194</td>\n",
       "      <td>0.016129</td>\n",
       "    </tr>\n",
       "    <tr>\n",
       "      <th>4</th>\n",
       "      <td>0.15</td>\n",
       "      <td>1</td>\n",
       "      <td>0.725806</td>\n",
       "      <td>0.000000</td>\n",
       "      <td>0.177419</td>\n",
       "      <td>0.096774</td>\n",
       "    </tr>\n",
       "    <tr>\n",
       "      <th>5</th>\n",
       "      <td>0.15</td>\n",
       "      <td>2</td>\n",
       "      <td>0.580645</td>\n",
       "      <td>0.096774</td>\n",
       "      <td>0.225806</td>\n",
       "      <td>0.080645</td>\n",
       "    </tr>\n",
       "    <tr>\n",
       "      <th>6</th>\n",
       "      <td>0.15</td>\n",
       "      <td>3</td>\n",
       "      <td>0.709677</td>\n",
       "      <td>0.032258</td>\n",
       "      <td>0.177419</td>\n",
       "      <td>0.064516</td>\n",
       "    </tr>\n",
       "    <tr>\n",
       "      <th>7</th>\n",
       "      <td>0.15</td>\n",
       "      <td>4</td>\n",
       "      <td>0.693548</td>\n",
       "      <td>0.000000</td>\n",
       "      <td>0.274194</td>\n",
       "      <td>0.016129</td>\n",
       "    </tr>\n",
       "    <tr>\n",
       "      <th>8</th>\n",
       "      <td>0.25</td>\n",
       "      <td>1</td>\n",
       "      <td>0.725806</td>\n",
       "      <td>0.000000</td>\n",
       "      <td>0.161290</td>\n",
       "      <td>0.112903</td>\n",
       "    </tr>\n",
       "    <tr>\n",
       "      <th>9</th>\n",
       "      <td>0.25</td>\n",
       "      <td>2</td>\n",
       "      <td>0.548387</td>\n",
       "      <td>0.129032</td>\n",
       "      <td>0.209677</td>\n",
       "      <td>0.096774</td>\n",
       "    </tr>\n",
       "    <tr>\n",
       "      <th>10</th>\n",
       "      <td>0.25</td>\n",
       "      <td>3</td>\n",
       "      <td>0.709677</td>\n",
       "      <td>0.032258</td>\n",
       "      <td>0.145161</td>\n",
       "      <td>0.096774</td>\n",
       "    </tr>\n",
       "    <tr>\n",
       "      <th>11</th>\n",
       "      <td>0.25</td>\n",
       "      <td>4</td>\n",
       "      <td>0.693548</td>\n",
       "      <td>0.000000</td>\n",
       "      <td>0.241935</td>\n",
       "      <td>0.048387</td>\n",
       "    </tr>\n",
       "    <tr>\n",
       "      <th>12</th>\n",
       "      <td>0.35</td>\n",
       "      <td>1</td>\n",
       "      <td>0.725806</td>\n",
       "      <td>0.000000</td>\n",
       "      <td>0.161290</td>\n",
       "      <td>0.112903</td>\n",
       "    </tr>\n",
       "    <tr>\n",
       "      <th>13</th>\n",
       "      <td>0.35</td>\n",
       "      <td>2</td>\n",
       "      <td>0.516129</td>\n",
       "      <td>0.161290</td>\n",
       "      <td>0.193548</td>\n",
       "      <td>0.112903</td>\n",
       "    </tr>\n",
       "    <tr>\n",
       "      <th>14</th>\n",
       "      <td>0.35</td>\n",
       "      <td>3</td>\n",
       "      <td>0.709677</td>\n",
       "      <td>0.032258</td>\n",
       "      <td>0.145161</td>\n",
       "      <td>0.096774</td>\n",
       "    </tr>\n",
       "    <tr>\n",
       "      <th>15</th>\n",
       "      <td>0.35</td>\n",
       "      <td>4</td>\n",
       "      <td>0.693548</td>\n",
       "      <td>0.000000</td>\n",
       "      <td>0.225806</td>\n",
       "      <td>0.064516</td>\n",
       "    </tr>\n",
       "    <tr>\n",
       "      <th>16</th>\n",
       "      <td>0.45</td>\n",
       "      <td>1</td>\n",
       "      <td>0.725806</td>\n",
       "      <td>0.000000</td>\n",
       "      <td>0.145161</td>\n",
       "      <td>0.129032</td>\n",
       "    </tr>\n",
       "    <tr>\n",
       "      <th>17</th>\n",
       "      <td>0.45</td>\n",
       "      <td>2</td>\n",
       "      <td>0.516129</td>\n",
       "      <td>0.161290</td>\n",
       "      <td>0.177419</td>\n",
       "      <td>0.129032</td>\n",
       "    </tr>\n",
       "    <tr>\n",
       "      <th>18</th>\n",
       "      <td>0.45</td>\n",
       "      <td>3</td>\n",
       "      <td>0.693548</td>\n",
       "      <td>0.048387</td>\n",
       "      <td>0.112903</td>\n",
       "      <td>0.129032</td>\n",
       "    </tr>\n",
       "    <tr>\n",
       "      <th>19</th>\n",
       "      <td>0.45</td>\n",
       "      <td>4</td>\n",
       "      <td>0.693548</td>\n",
       "      <td>0.000000</td>\n",
       "      <td>0.225806</td>\n",
       "      <td>0.064516</td>\n",
       "    </tr>\n",
       "    <tr>\n",
       "      <th>20</th>\n",
       "      <td>0.55</td>\n",
       "      <td>1</td>\n",
       "      <td>0.725806</td>\n",
       "      <td>0.000000</td>\n",
       "      <td>0.129032</td>\n",
       "      <td>0.145161</td>\n",
       "    </tr>\n",
       "    <tr>\n",
       "      <th>21</th>\n",
       "      <td>0.55</td>\n",
       "      <td>2</td>\n",
       "      <td>0.483871</td>\n",
       "      <td>0.193548</td>\n",
       "      <td>0.129032</td>\n",
       "      <td>0.177419</td>\n",
       "    </tr>\n",
       "    <tr>\n",
       "      <th>22</th>\n",
       "      <td>0.55</td>\n",
       "      <td>3</td>\n",
       "      <td>0.693548</td>\n",
       "      <td>0.048387</td>\n",
       "      <td>0.096774</td>\n",
       "      <td>0.145161</td>\n",
       "    </tr>\n",
       "    <tr>\n",
       "      <th>23</th>\n",
       "      <td>0.55</td>\n",
       "      <td>4</td>\n",
       "      <td>0.693548</td>\n",
       "      <td>0.000000</td>\n",
       "      <td>0.225806</td>\n",
       "      <td>0.064516</td>\n",
       "    </tr>\n",
       "    <tr>\n",
       "      <th>24</th>\n",
       "      <td>0.65</td>\n",
       "      <td>1</td>\n",
       "      <td>0.725806</td>\n",
       "      <td>0.000000</td>\n",
       "      <td>0.129032</td>\n",
       "      <td>0.145161</td>\n",
       "    </tr>\n",
       "    <tr>\n",
       "      <th>25</th>\n",
       "      <td>0.65</td>\n",
       "      <td>2</td>\n",
       "      <td>0.483871</td>\n",
       "      <td>0.193548</td>\n",
       "      <td>0.112903</td>\n",
       "      <td>0.193548</td>\n",
       "    </tr>\n",
       "    <tr>\n",
       "      <th>26</th>\n",
       "      <td>0.65</td>\n",
       "      <td>3</td>\n",
       "      <td>0.693548</td>\n",
       "      <td>0.048387</td>\n",
       "      <td>0.096774</td>\n",
       "      <td>0.145161</td>\n",
       "    </tr>\n",
       "    <tr>\n",
       "      <th>27</th>\n",
       "      <td>0.65</td>\n",
       "      <td>4</td>\n",
       "      <td>0.677419</td>\n",
       "      <td>0.016129</td>\n",
       "      <td>0.225806</td>\n",
       "      <td>0.064516</td>\n",
       "    </tr>\n",
       "    <tr>\n",
       "      <th>28</th>\n",
       "      <td>0.75</td>\n",
       "      <td>1</td>\n",
       "      <td>0.725806</td>\n",
       "      <td>0.000000</td>\n",
       "      <td>0.129032</td>\n",
       "      <td>0.145161</td>\n",
       "    </tr>\n",
       "    <tr>\n",
       "      <th>29</th>\n",
       "      <td>0.75</td>\n",
       "      <td>2</td>\n",
       "      <td>0.483871</td>\n",
       "      <td>0.193548</td>\n",
       "      <td>0.112903</td>\n",
       "      <td>0.193548</td>\n",
       "    </tr>\n",
       "    <tr>\n",
       "      <th>30</th>\n",
       "      <td>0.75</td>\n",
       "      <td>3</td>\n",
       "      <td>0.693548</td>\n",
       "      <td>0.048387</td>\n",
       "      <td>0.096774</td>\n",
       "      <td>0.145161</td>\n",
       "    </tr>\n",
       "    <tr>\n",
       "      <th>31</th>\n",
       "      <td>0.75</td>\n",
       "      <td>4</td>\n",
       "      <td>0.677419</td>\n",
       "      <td>0.016129</td>\n",
       "      <td>0.225806</td>\n",
       "      <td>0.064516</td>\n",
       "    </tr>\n",
       "    <tr>\n",
       "      <th>32</th>\n",
       "      <td>0.85</td>\n",
       "      <td>1</td>\n",
       "      <td>0.725806</td>\n",
       "      <td>0.000000</td>\n",
       "      <td>0.129032</td>\n",
       "      <td>0.145161</td>\n",
       "    </tr>\n",
       "    <tr>\n",
       "      <th>33</th>\n",
       "      <td>0.85</td>\n",
       "      <td>2</td>\n",
       "      <td>0.483871</td>\n",
       "      <td>0.193548</td>\n",
       "      <td>0.112903</td>\n",
       "      <td>0.193548</td>\n",
       "    </tr>\n",
       "    <tr>\n",
       "      <th>34</th>\n",
       "      <td>0.85</td>\n",
       "      <td>3</td>\n",
       "      <td>0.693548</td>\n",
       "      <td>0.048387</td>\n",
       "      <td>0.096774</td>\n",
       "      <td>0.145161</td>\n",
       "    </tr>\n",
       "    <tr>\n",
       "      <th>35</th>\n",
       "      <td>0.85</td>\n",
       "      <td>4</td>\n",
       "      <td>0.677419</td>\n",
       "      <td>0.016129</td>\n",
       "      <td>0.209677</td>\n",
       "      <td>0.080645</td>\n",
       "    </tr>\n",
       "    <tr>\n",
       "      <th>36</th>\n",
       "      <td>0.95</td>\n",
       "      <td>1</td>\n",
       "      <td>0.725806</td>\n",
       "      <td>0.000000</td>\n",
       "      <td>0.112903</td>\n",
       "      <td>0.161290</td>\n",
       "    </tr>\n",
       "    <tr>\n",
       "      <th>37</th>\n",
       "      <td>0.95</td>\n",
       "      <td>2</td>\n",
       "      <td>0.483871</td>\n",
       "      <td>0.193548</td>\n",
       "      <td>0.112903</td>\n",
       "      <td>0.193548</td>\n",
       "    </tr>\n",
       "    <tr>\n",
       "      <th>38</th>\n",
       "      <td>0.95</td>\n",
       "      <td>3</td>\n",
       "      <td>0.693548</td>\n",
       "      <td>0.048387</td>\n",
       "      <td>0.096774</td>\n",
       "      <td>0.145161</td>\n",
       "    </tr>\n",
       "    <tr>\n",
       "      <th>39</th>\n",
       "      <td>0.95</td>\n",
       "      <td>4</td>\n",
       "      <td>0.661290</td>\n",
       "      <td>0.032258</td>\n",
       "      <td>0.209677</td>\n",
       "      <td>0.080645</td>\n",
       "    </tr>\n",
       "  </tbody>\n",
       "</table>\n",
       "</div>"
      ],
      "text/plain": [
       "    time_progress_bin  metric_id  Both not significant  \\\n",
       "0                0.05          1              0.725806   \n",
       "1                0.05          2              0.629032   \n",
       "2                0.05          3              0.725806   \n",
       "3                0.05          4              0.693548   \n",
       "4                0.15          1              0.725806   \n",
       "5                0.15          2              0.580645   \n",
       "6                0.15          3              0.709677   \n",
       "7                0.15          4              0.693548   \n",
       "8                0.25          1              0.725806   \n",
       "9                0.25          2              0.548387   \n",
       "10               0.25          3              0.709677   \n",
       "11               0.25          4              0.693548   \n",
       "12               0.35          1              0.725806   \n",
       "13               0.35          2              0.516129   \n",
       "14               0.35          3              0.709677   \n",
       "15               0.35          4              0.693548   \n",
       "16               0.45          1              0.725806   \n",
       "17               0.45          2              0.516129   \n",
       "18               0.45          3              0.693548   \n",
       "19               0.45          4              0.693548   \n",
       "20               0.55          1              0.725806   \n",
       "21               0.55          2              0.483871   \n",
       "22               0.55          3              0.693548   \n",
       "23               0.55          4              0.693548   \n",
       "24               0.65          1              0.725806   \n",
       "25               0.65          2              0.483871   \n",
       "26               0.65          3              0.693548   \n",
       "27               0.65          4              0.677419   \n",
       "28               0.75          1              0.725806   \n",
       "29               0.75          2              0.483871   \n",
       "30               0.75          3              0.693548   \n",
       "31               0.75          4              0.677419   \n",
       "32               0.85          1              0.725806   \n",
       "33               0.85          2              0.483871   \n",
       "34               0.85          3              0.693548   \n",
       "35               0.85          4              0.677419   \n",
       "36               0.95          1              0.725806   \n",
       "37               0.95          2              0.483871   \n",
       "38               0.95          3              0.693548   \n",
       "39               0.95          4              0.661290   \n",
       "\n",
       "    Only mSPRT significant  Only t-test significant  Both significant  \n",
       "0                 0.000000                 0.225806          0.048387  \n",
       "1                 0.048387                 0.274194          0.032258  \n",
       "2                 0.016129                 0.209677          0.032258  \n",
       "3                 0.000000                 0.274194          0.016129  \n",
       "4                 0.000000                 0.177419          0.096774  \n",
       "5                 0.096774                 0.225806          0.080645  \n",
       "6                 0.032258                 0.177419          0.064516  \n",
       "7                 0.000000                 0.274194          0.016129  \n",
       "8                 0.000000                 0.161290          0.112903  \n",
       "9                 0.129032                 0.209677          0.096774  \n",
       "10                0.032258                 0.145161          0.096774  \n",
       "11                0.000000                 0.241935          0.048387  \n",
       "12                0.000000                 0.161290          0.112903  \n",
       "13                0.161290                 0.193548          0.112903  \n",
       "14                0.032258                 0.145161          0.096774  \n",
       "15                0.000000                 0.225806          0.064516  \n",
       "16                0.000000                 0.145161          0.129032  \n",
       "17                0.161290                 0.177419          0.129032  \n",
       "18                0.048387                 0.112903          0.129032  \n",
       "19                0.000000                 0.225806          0.064516  \n",
       "20                0.000000                 0.129032          0.145161  \n",
       "21                0.193548                 0.129032          0.177419  \n",
       "22                0.048387                 0.096774          0.145161  \n",
       "23                0.000000                 0.225806          0.064516  \n",
       "24                0.000000                 0.129032          0.145161  \n",
       "25                0.193548                 0.112903          0.193548  \n",
       "26                0.048387                 0.096774          0.145161  \n",
       "27                0.016129                 0.225806          0.064516  \n",
       "28                0.000000                 0.129032          0.145161  \n",
       "29                0.193548                 0.112903          0.193548  \n",
       "30                0.048387                 0.096774          0.145161  \n",
       "31                0.016129                 0.225806          0.064516  \n",
       "32                0.000000                 0.129032          0.145161  \n",
       "33                0.193548                 0.112903          0.193548  \n",
       "34                0.048387                 0.096774          0.145161  \n",
       "35                0.016129                 0.209677          0.080645  \n",
       "36                0.000000                 0.112903          0.161290  \n",
       "37                0.193548                 0.112903          0.193548  \n",
       "38                0.048387                 0.096774          0.145161  \n",
       "39                0.032258                 0.209677          0.080645  "
      ]
     },
     "execution_count": 21,
     "metadata": {},
     "output_type": "execute_result"
    }
   ],
   "source": [
    "abtest_metric_evol_df"
   ]
  },
  {
   "cell_type": "code",
   "execution_count": 22,
   "metadata": {},
   "outputs": [
    {
     "name": "stdout",
     "output_type": "stream",
     "text": [
      "metric_id 1\n"
     ]
    },
    {
     "data": {
      "image/png": "[encoded data removed]",
      "text/plain": [
       "<Figure size 432x288 with 1 Axes>"
      ]
     },
     "metadata": {},
     "output_type": "display_data"
    },
    {
     "name": "stdout",
     "output_type": "stream",
     "text": [
      "metric_id 2\n"
     ]
    },
    {
     "data": {
      "image/png": "[encoded data removed]",
      "text/plain": [
       "<Figure size 432x288 with 1 Axes>"
      ]
     },
     "metadata": {},
     "output_type": "display_data"
    },
    {
     "name": "stdout",
     "output_type": "stream",
     "text": [
      "metric_id 3\n"
     ]
    },
    {
     "data": {
      "image/png": "[encoded data removed]",
      "text/plain": [
       "<Figure size 432x288 with 1 Axes>"
      ]
     },
     "metadata": {},
     "output_type": "display_data"
    },
    {
     "name": "stdout",
     "output_type": "stream",
     "text": [
      "metric_id 4\n"
     ]
    },
    {
     "data": {
      "image/png": "[encoded data removed]",
      "text/plain": [
       "<Figure size 432x288 with 1 Axes>"
      ]
     },
     "metadata": {},
     "output_type": "display_data"
    },
    {
     "data": {
      "text/plain": [
       "<Figure size 432x288 with 0 Axes>"
      ]
     },
     "metadata": {},
     "output_type": "display_data"
    }
   ],
   "source": [
    "for metric_id in abtest_metric_evol_df['metric_id'].unique():\n",
    "    print('metric_id', metric_id)\n",
    "    x=abtest_metric_evol_df['time_progress_bin'].unique()\n",
    "    y = abtest_metric_evol_df[abtest_metric_evol_df['metric_id']==metric_id][labels].T.values\n",
    "\n",
    "    # set seaborn style\n",
    "\n",
    "    # Plot\n",
    "    plt.stackplot(x,y, labels=labels)\n",
    "    plt.ylim(0,1)\n",
    "\n",
    "    plt.legend(loc='lower center')\n",
    "    plt.show()\n",
    "    plt.savefig(figures_folder + 'time_progress_type_metric_' + str(metric_id) + '.pdf')\n",
    "    "
   ]
  },
  {
   "cell_type": "markdown",
   "metadata": {
    "application/vnd.databricks.v1+cell": {
     "inputWidgets": {},
     "nuid": "1c21a533-2d5a-4b93-b4d7-45eb8cb673cc",
     "showTitle": false,
     "title": ""
    }
   },
   "source": [
    "Confusion matrix between Welch's t-test and mSPRT  \n",
    "Confusion matrix between Welch's t-test and Bayesian A/B test\n",
    "\n"
   ]
  },
  {
   "cell_type": "markdown",
   "metadata": {
    "application/vnd.databricks.v1+cell": {
     "inputWidgets": {},
     "nuid": "a82c18a8-eb8a-4f99-9999-726e99e9f920",
     "showTitle": false,
     "title": ""
    }
   },
   "source": [
    "cumulative plot off type-I, type-II and correct rejection or no-rejection"
   ]
  },
  {
   "cell_type": "markdown",
   "metadata": {
    "application/vnd.databricks.v1+cell": {
     "inputWidgets": {},
     "nuid": "430f2640-5768-4455-9e3e-11c7f237f57b",
     "showTitle": false,
     "title": ""
    }
   },
   "source": [
    "Show data spike experiment, comment on how it affects mSPRT(vanilla), mSPRT(in deployment) and Bayesian A/B Test."
   ]
  },
  {
   "cell_type": "markdown",
   "metadata": {
    "application/vnd.databricks.v1+cell": {
     "inputWidgets": {},
     "nuid": "bd5f9d78-8cf4-4e80-a80b-4f2b95fcce0b",
     "showTitle": false,
     "title": ""
    }
   },
   "source": [
    "TODO: use markdown instead of cell title for export"
   ]
  },
  {
   "cell_type": "markdown",
   "metadata": {
    "application/vnd.databricks.v1+cell": {
     "inputWidgets": {},
     "nuid": "1b47f91a-ff13-45e6-9225-888932e544b3",
     "showTitle": true,
     "title": "Perform mSPRT on dataset"
    }
   },
   "source": [
    "\n",
    "TODO: TODO: Fix effective sample size n\n",
    "TODO: estimate sigma^2 via whatever means"
   ]
  }
 ],
 "metadata": {
  "application/vnd.databricks.v1+notebook": {
   "dashboards": [],
   "language": "python",
   "notebookMetadata": {
    "pythonIndentUnit": 2
   },
   "notebookName": "oce-dataset",
   "notebookOrigID": 1499717207767751,
   "widgets": {}
  },
  "kernelspec": {
   "display_name": "Python 3.8 - AzureML",
   "language": "python",
   "name": "python38-azureml"
  },
  "language_info": {
   "codemirror_mode": {
    "name": "ipython",
    "version": 3
   },
   "file_extension": ".py",
   "mimetype": "text/x-python",
   "name": "python",
   "nbconvert_exporter": "python",
   "pygments_lexer": "ipython3",
   "version": "3.8.1"
  }
 },
 "nbformat": 4,
 "nbformat_minor": 4
}
